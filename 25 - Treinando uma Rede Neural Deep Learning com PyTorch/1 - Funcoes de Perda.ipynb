{
 "cells": [
  {
   "cell_type": "code",
   "execution_count": 1,
   "id": "2291ada0",
   "metadata": {},
   "outputs": [],
   "source": [
    "import torch\n",
    "from torch import nn"
   ]
  },
  {
   "cell_type": "code",
   "execution_count": 2,
   "id": "717527fb",
   "metadata": {},
   "outputs": [
    {
     "name": "stdout",
     "output_type": "stream",
     "text": [
      "(178, 13) (178,)\n",
      "['alcohol', 'malic_acid', 'ash', 'alcalinity_of_ash', 'magnesium', 'total_phenols', 'flavanoids', 'nonflavanoid_phenols', 'proanthocyanins', 'color_intensity', 'hue', 'od280/od315_of_diluted_wines', 'proline'] ['class_0' 'class_1' 'class_2']\n"
     ]
    }
   ],
   "source": [
    "from sklearn import datasets\n",
    "\n",
    "wine = datasets.load_wine()\n",
    "data = wine.data\n",
    "target = wine.target\n",
    "\n",
    "print(data.shape, target.shape)\n",
    "print(wine.feature_names, wine.target_names)"
   ]
  },
  {
   "cell_type": "code",
   "execution_count": 6,
   "id": "92f6d387",
   "metadata": {},
   "outputs": [],
   "source": [
    "class WineClassifier(nn.Module):\n",
    "    \n",
    "    def __init__(self, input_size, hidden_size, output_size):\n",
    "        super(WineClassifier, self).__init__()\n",
    "        \n",
    "        self.hidden = nn.Linear(input_size, hidden_size)\n",
    "        self.relu = nn.ReLU()\n",
    "        self.out = nn.Linear(hidden_size, output_size)\n",
    "        self.softmax = nn.Softmax()\n",
    "        \n",
    "    def forward(self, X):\n",
    "        feature = self.relu(self.hidden(X))\n",
    "        output = self.softmax(self.out(feature))\n",
    "        \n",
    "        return output"
   ]
  },
  {
   "cell_type": "code",
   "execution_count": 7,
   "id": "d5016553",
   "metadata": {},
   "outputs": [],
   "source": [
    "input_size = data.shape[1]\n",
    "hidden_size = 32\n",
    "output_size = len(wine.target_names)"
   ]
  },
  {
   "cell_type": "code",
   "execution_count": 8,
   "id": "cd1a0cc9",
   "metadata": {},
   "outputs": [
    {
     "data": {
      "text/plain": [
       "WineClassifier(\n",
       "  (hidden): Linear(in_features=13, out_features=32, bias=True)\n",
       "  (relu): ReLU()\n",
       "  (out): Linear(in_features=32, out_features=3, bias=True)\n",
       "  (softmax): Softmax(dim=None)\n",
       ")"
      ]
     },
     "execution_count": 8,
     "metadata": {},
     "output_type": "execute_result"
    }
   ],
   "source": [
    "net = WineClassifier(input_size, hidden_size, output_size)\n",
    "net"
   ]
  },
  {
   "cell_type": "code",
   "execution_count": 9,
   "id": "45cc39b8",
   "metadata": {},
   "outputs": [],
   "source": [
    "criterion = nn.CrossEntropyLoss()"
   ]
  },
  {
   "cell_type": "code",
   "execution_count": 26,
   "id": "3a80e9ee",
   "metadata": {},
   "outputs": [],
   "source": [
    "X_tensor = torch.from_numpy(data).float()\n",
    "Y_tensor = torch.from_numpy(target)\n",
    "Y_tensor = Y_tensor.type(torch.LongTensor)"
   ]
  },
  {
   "cell_type": "code",
   "execution_count": 27,
   "id": "7c6b14b0",
   "metadata": {},
   "outputs": [
    {
     "name": "stderr",
     "output_type": "stream",
     "text": [
      "C:\\Users\\USURIO~2\\AppData\\Local\\Temp/ipykernel_15868/2611106849.py:13: UserWarning: Implicit dimension choice for softmax has been deprecated. Change the call to include dim=X as an argument.\n",
      "  output = self.softmax(self.out(feature))\n"
     ]
    }
   ],
   "source": [
    "pred = net(X_tensor)"
   ]
  },
  {
   "cell_type": "code",
   "execution_count": 28,
   "id": "02189bde",
   "metadata": {},
   "outputs": [
    {
     "data": {
      "text/plain": [
       "torch.Size([178, 3])"
      ]
     },
     "execution_count": 28,
     "metadata": {},
     "output_type": "execute_result"
    }
   ],
   "source": [
    "pred.shape"
   ]
  },
  {
   "cell_type": "code",
   "execution_count": 29,
   "id": "0692e2ea",
   "metadata": {},
   "outputs": [
    {
     "data": {
      "text/plain": [
       "torch.Size([178])"
      ]
     },
     "execution_count": 29,
     "metadata": {},
     "output_type": "execute_result"
    }
   ],
   "source": [
    "Y_tensor.shape"
   ]
  },
  {
   "cell_type": "code",
   "execution_count": 30,
   "id": "52e7316c",
   "metadata": {},
   "outputs": [
    {
     "data": {
      "text/plain": [
       "tensor(1.1526, grad_fn=<NllLossBackward0>)"
      ]
     },
     "execution_count": 30,
     "metadata": {},
     "output_type": "execute_result"
    }
   ],
   "source": [
    "loss = criterion(pred, Y_tensor)\n",
    "loss"
   ]
  },
  {
   "cell_type": "code",
   "execution_count": 32,
   "id": "341f2b76",
   "metadata": {},
   "outputs": [],
   "source": [
    "diabetes = datasets.load_diabetes()\n",
    "data = diabetes.data\n",
    "target = diabetes.target"
   ]
  },
  {
   "cell_type": "code",
   "execution_count": 34,
   "id": "306a2db9",
   "metadata": {},
   "outputs": [
    {
     "data": {
      "text/plain": [
       "array([ 0.03807591,  0.05068012,  0.06169621,  0.02187235, -0.0442235 ,\n",
       "       -0.03482076, -0.04340085, -0.00259226,  0.01990842, -0.01764613])"
      ]
     },
     "execution_count": 34,
     "metadata": {},
     "output_type": "execute_result"
    }
   ],
   "source": [
    "data[0]"
   ]
  },
  {
   "cell_type": "code",
   "execution_count": 38,
   "id": "1c2ef4fd",
   "metadata": {},
   "outputs": [],
   "source": [
    "class DiabetesClassifier(nn.Module):\n",
    "    \n",
    "    def __init__(self, input_size, hidden_size, output_size):\n",
    "        super(DiabetesClassifier, self).__init__()\n",
    "        \n",
    "        self.hidden = nn.Linear(input_size, hidden_size)\n",
    "        self.relu = nn.ReLU()\n",
    "        self.out = nn.Linear(hidden_size, output_size)\n",
    "        self.softmax = nn.Softmax()\n",
    "        \n",
    "    def forward(self, X):\n",
    "        feature = self.relu(self.hidden(X))\n",
    "        output = self.softmax(self.out(feature))\n",
    "        \n",
    "        return output\n",
    "    \n",
    "    \n",
    "input_size = data.shape[1]\n",
    "hidden_size = 32\n",
    "output_size = 1 # progressão da diabetes"
   ]
  },
  {
   "cell_type": "code",
   "execution_count": 39,
   "id": "5f79c24e",
   "metadata": {},
   "outputs": [
    {
     "data": {
      "text/plain": [
       "DiabetesClassifier(\n",
       "  (hidden): Linear(in_features=10, out_features=32, bias=True)\n",
       "  (relu): ReLU()\n",
       "  (out): Linear(in_features=32, out_features=1, bias=True)\n",
       "  (softmax): Softmax(dim=None)\n",
       ")"
      ]
     },
     "execution_count": 39,
     "metadata": {},
     "output_type": "execute_result"
    }
   ],
   "source": [
    "net = DiabetesClassifier(input_size, hidden_size, output_size)\n",
    "net"
   ]
  },
  {
   "cell_type": "code",
   "execution_count": 40,
   "id": "032fa69f",
   "metadata": {},
   "outputs": [],
   "source": [
    "criterion = nn.MSELoss()"
   ]
  },
  {
   "cell_type": "code",
   "execution_count": 41,
   "id": "f0134c89",
   "metadata": {},
   "outputs": [],
   "source": [
    "X_tensor = torch.from_numpy(data).float()\n",
    "Y_tensor = torch.from_numpy(target).float()\n",
    "Y_tensor = Y_tensor.type(torch.LongTensor)"
   ]
  },
  {
   "cell_type": "code",
   "execution_count": 43,
   "id": "40cccc01",
   "metadata": {},
   "outputs": [
    {
     "name": "stderr",
     "output_type": "stream",
     "text": [
      "C:\\Users\\USURIO~2\\AppData\\Local\\Temp/ipykernel_15868/652615127.py:13: UserWarning: Implicit dimension choice for softmax has been deprecated. Change the call to include dim=X as an argument.\n",
      "  output = self.softmax(self.out(feature))\n"
     ]
    },
    {
     "data": {
      "text/plain": [
       "torch.Size([442, 1])"
      ]
     },
     "execution_count": 43,
     "metadata": {},
     "output_type": "execute_result"
    }
   ],
   "source": [
    "pred = net(X_tensor)\n",
    "pred.shape"
   ]
  },
  {
   "cell_type": "code",
   "execution_count": 44,
   "id": "17cb21ca",
   "metadata": {},
   "outputs": [
    {
     "data": {
      "text/plain": [
       "tensor(28771.2148)"
      ]
     },
     "execution_count": 44,
     "metadata": {},
     "output_type": "execute_result"
    }
   ],
   "source": [
    "loss = criterion(pred.squeeze(), Y_tensor)\n",
    "loss.data"
   ]
  }
 ],
 "metadata": {
  "kernelspec": {
   "display_name": "Python 3 (ipykernel)",
   "language": "python",
   "name": "python3"
  },
  "language_info": {
   "codemirror_mode": {
    "name": "ipython",
    "version": 3
   },
   "file_extension": ".py",
   "mimetype": "text/x-python",
   "name": "python",
   "nbconvert_exporter": "python",
   "pygments_lexer": "ipython3",
   "version": "3.9.9"
  }
 },
 "nbformat": 4,
 "nbformat_minor": 5
}
